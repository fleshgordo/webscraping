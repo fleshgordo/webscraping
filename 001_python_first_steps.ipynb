{
 "cells": [
  {
   "cell_type": "markdown",
   "metadata": {},
   "source": [
    "# Erste Schritte in Python\n",
    "\n",
    "Python ist eine einfach zu lernende, aber mächtige Programmiersprache. Python ist eine interpretierte Sprache, wodurch sich bei der Programmentwicklung erheblich Zeit sparen lässt, da Kompilieren und Linken nicht nötig sind. Der Interpreter kann interaktiv genutzt werden so wie dieses Notebook.\n",
    "\n",
    "Zunächst, eine Erklärung. In den einzelnen Boxen steht Python Code. Man kann auf die Box klicken, den Inhalt verändern und das Programm dann einfach mit der Play-Taste oben, oder mit Shift-Enter starten und diese eine Zeile ausführen lassen. Probiert es mal aus zwei Zahlen zu addieren und seht was passiert. Ihr könnt die Zahlen direkt im Eingabefenster verändern. "
   ]
  },
  {
   "cell_type": "code",
   "execution_count": 5,
   "metadata": {
    "collapsed": false
   },
   "outputs": [
    {
     "data": {
      "text/plain": [
       "4"
      ]
     },
     "execution_count": 5,
     "metadata": {},
     "output_type": "execute_result"
    }
   ],
   "source": [
    "2+2"
   ]
  },
  {
   "cell_type": "markdown",
   "metadata": {},
   "source": [
    "Versucht einmal eine andere mathematische Operation z.b. * - / . Was ergibt 5/2? "
   ]
  },
  {
   "cell_type": "code",
   "execution_count": 2,
   "metadata": {
    "collapsed": false
   },
   "outputs": [
    {
     "data": {
      "text/plain": [
       "2"
      ]
     },
     "execution_count": 2,
     "metadata": {},
     "output_type": "execute_result"
    }
   ],
   "source": [
    "5/2"
   ]
  },
  {
   "cell_type": "markdown",
   "metadata": {},
   "source": [
    "Python kann man ganz einfach auch als Taschenrechner verwenden:"
   ]
  },
  {
   "cell_type": "code",
   "execution_count": 5,
   "metadata": {
    "collapsed": false
   },
   "outputs": [
    {
     "data": {
      "text/plain": [
       "20"
      ]
     },
     "execution_count": 5,
     "metadata": {},
     "output_type": "execute_result"
    }
   ],
   "source": [
    "(50-10) / 2"
   ]
  },
  {
   "cell_type": "markdown",
   "metadata": {},
   "source": [
    "### Text versus Zahlen"
   ]
  },
  {
   "cell_type": "markdown",
   "metadata": {},
   "source": [
    "Wenn man Anführungsstriche verwendet, dann interpretiert Python die Zahl nicht als Zahl sondern plötzlich als Text (auf Englisch ist das ein String):"
   ]
  },
  {
   "cell_type": "code",
   "execution_count": 4,
   "metadata": {
    "collapsed": false
   },
   "outputs": [
    {
     "data": {
      "text/plain": [
       "'22'"
      ]
     },
     "execution_count": 4,
     "metadata": {},
     "output_type": "execute_result"
    }
   ],
   "source": [
    "\"2\" + \"2\""
   ]
  },
  {
   "cell_type": "markdown",
   "metadata": {},
   "source": [
    "Versucht mal zwei Wörter zu verbinden. Man spricht hier von \"verketten\" oder to concatenate auf Englisch (hello world)"
   ]
  },
  {
   "cell_type": "code",
   "execution_count": null,
   "metadata": {
    "collapsed": true
   },
   "outputs": [],
   "source": []
  },
  {
   "cell_type": "markdown",
   "metadata": {},
   "source": [
    "Wieviel ergibt 2 + \"2\"?"
   ]
  },
  {
   "cell_type": "code",
   "execution_count": null,
   "metadata": {
    "collapsed": true
   },
   "outputs": [],
   "source": []
  },
  {
   "cell_type": "markdown",
   "metadata": {},
   "source": [
    "### Variablen\n",
    "\n",
    "Eine Variable im allgemeinsten Sinne ist einfach ein Behälter (Container) zur Aufbewahrung von bestimmten Werten, also z.B. Strings oder Zahlen. Man kann im Verlauf des Programms auf diese Variablen, oder genauer auf den Wert ihres Inhaltes zugreifen, oder ihnen einen neuen Wert zuweisen."
   ]
  },
  {
   "cell_type": "code",
   "execution_count": 1,
   "metadata": {
    "collapsed": false
   },
   "outputs": [
    {
     "name": "stdout",
     "output_type": "stream",
     "text": [
      "Yeswe can!\n"
     ]
    }
   ],
   "source": [
    "meineVariable = \"Yes\"\n",
    "nochEineVariable = \"we can!\"\n",
    "print meineVariable + nochEineVariable"
   ]
  },
  {
   "cell_type": "markdown",
   "metadata": {},
   "source": [
    "Aber es wird gleich ein wenig mathematischer. Der Variablen-Name ist frei wählbar, es gibt allerdings ein paar Wörter, die man nicht benutzen darf (z.b. python-spezifische Kommandos wie print). Probiert mal wieder die Addition und versucht den Wert der Variable zu ändern: "
   ]
  },
  {
   "cell_type": "code",
   "execution_count": 4,
   "metadata": {
    "collapsed": false
   },
   "outputs": [
    {
     "data": {
      "text/plain": [
       "2"
      ]
     },
     "execution_count": 4,
     "metadata": {},
     "output_type": "execute_result"
    }
   ],
   "source": [
    "nummer1 = 5\n",
    "nummer2 = 2\n",
    "nummer1 * nummer2\n",
    "nummer1 + nummer2\n",
    "nummer1 - nummer2\n",
    "nummer1 / nummer2"
   ]
  },
  {
   "cell_type": "markdown",
   "metadata": {},
   "source": [
    "Eigentlich würden wir erwarten, dass die Kommandozeile 4 Werte ausspuckt, oder? Man kann das \"print\" statement benutzen, um Werte im Terminal ausgeben zu lassen:"
   ]
  },
  {
   "cell_type": "code",
   "execution_count": 5,
   "metadata": {
    "collapsed": false
   },
   "outputs": [
    {
     "name": "stdout",
     "output_type": "stream",
     "text": [
      "10\n",
      "7\n",
      "3\n",
      "2\n"
     ]
    }
   ],
   "source": [
    "nummer1 = 5\n",
    "nummer2 = 2\n",
    "print nummer1 * nummer2\n",
    "print nummer1 + nummer2\n",
    "print nummer1 - nummer2\n",
    "print nummer1 / nummer2"
   ]
  },
  {
   "cell_type": "markdown",
   "metadata": {},
   "source": [
    "Das sieht nun besser aus. \n",
    "\n",
    "Nun probieren wir der Variable i den Wert 42 zuzuweisen\", d.h. der Inhalt von i ist nach der Zuweisung 42. Man kann diesen Wert der Variablen auch, wie man im folgenden Beispiel sieht, anschließend ändern: "
   ]
  },
  {
   "cell_type": "code",
   "execution_count": 6,
   "metadata": {
    "collapsed": false
   },
   "outputs": [
    {
     "name": "stdout",
     "output_type": "stream",
     "text": [
      "43\n"
     ]
    }
   ],
   "source": [
    "i = 42\n",
    "i = i + 1\n",
    "print i"
   ]
  },
  {
   "cell_type": "markdown",
   "metadata": {},
   "source": [
    "Es kann einem aber ruhig mal ein Fehler passieren. Die Syntax muss nämlich immer exakt sein. Gross/Kleinschreibung, ein Tippfehler wie z.B. statt print Print wirft gleich einen Fehler auf:"
   ]
  },
  {
   "cell_type": "code",
   "execution_count": 9,
   "metadata": {
    "collapsed": false
   },
   "outputs": [
    {
     "ename": "SyntaxError",
     "evalue": "invalid syntax (<ipython-input-9-3abd1922dd1d>, line 1)",
     "output_type": "error",
     "traceback": [
      "\u001b[0;36m  File \u001b[0;32m\"<ipython-input-9-3abd1922dd1d>\"\u001b[0;36m, line \u001b[0;32m1\u001b[0m\n\u001b[0;31m    Print i\u001b[0m\n\u001b[0m          ^\u001b[0m\n\u001b[0;31mSyntaxError\u001b[0m\u001b[0;31m:\u001b[0m invalid syntax\n"
     ]
    }
   ],
   "source": [
    "Print i"
   ]
  },
  {
   "cell_type": "markdown",
   "metadata": {},
   "source": [
    "Ihr bekommt einen Syntax Error. Die erste Zeile von der Fehlermeldung gibt sofort Aufschluss wo sich der Fehler befindet. Dadurch dass unser Programm nur eine Zeile hat, ist das eben \"line 1\". Ihr seht auch, dass das Wort print nicht mehr grün ist, so wie vorher!"
   ]
  },
  {
   "cell_type": "markdown",
   "metadata": {},
   "source": [
    "Wieviel ergibt i dividiert durch 5? Schreib es selbst in den Terminal unten. Mit Shift+Enter wird der Code ausgeführt. Probiert es mal aus:"
   ]
  },
  {
   "cell_type": "code",
   "execution_count": null,
   "metadata": {
    "collapsed": false
   },
   "outputs": [],
   "source": []
  },
  {
   "cell_type": "markdown",
   "metadata": {},
   "source": [
    "43 / 5 sollte aber nicht 8 ergeben, sondern 8.6. Python interpretiert die Zahlen aber als Ganzzahlen und gibt sie als Ganzzahlen auch wieder aus. Wenn man aber einen Punkt an die Zahl anfügt, dann versteht Python das ganze plötzlich als Fliesskommazahl:\n"
   ]
  },
  {
   "cell_type": "code",
   "execution_count": 11,
   "metadata": {
    "collapsed": false
   },
   "outputs": [
    {
     "data": {
      "text/plain": [
       "8.6"
      ]
     },
     "execution_count": 11,
     "metadata": {},
     "output_type": "execute_result"
    }
   ],
   "source": [
    "i / 5."
   ]
  },
  {
   "cell_type": "markdown",
   "metadata": {},
   "source": [
    "Fliesskommazahlen werden auf Englisch float bezeichnet. Ganzzahlen als integer!\n",
    "\n",
    "##### Kommentare\n",
    "\n",
    "Mit dem Raute-Zeichen # kann man Kommentare im Quelltext schreiben, welcher der Python Interpreter nicht als Code interpretiert, sondern nur als Kommentar/Anmerkung dient "
   ]
  },
  {
   "cell_type": "code",
   "execution_count": 2,
   "metadata": {
    "collapsed": false
   },
   "outputs": [
    {
     "name": "stdout",
     "output_type": "stream",
     "text": [
      "wow, bit slower plz\n"
     ]
    }
   ],
   "source": [
    "# Das ist ein Kommentar\n",
    "print \"wow, bit slower plz\"\n",
    "# WTF is this code? Are you 'brogramming'?\n",
    "\n"
   ]
  },
  {
   "cell_type": "markdown",
   "metadata": {},
   "source": [
    "##### Zufallszahlen\n",
    "\n",
    "Nun, lernen wir unsere erste Funktion kennen. Funktionen sind so etwas wie kleine Sub-programme, die uns einen gewissen Wert liefern können. \n",
    "\n",
    "Die Funktion randint(m, n) liefert eine zufällig ausgewählte Zahl aus dem Zahlenbereich {m, m+1, ..., n}. Ein Aufruf randint(1, 6) liefert also eine natürliche Zahl zwischen 1 und 6."
   ]
  },
  {
   "cell_type": "code",
   "execution_count": 3,
   "metadata": {
    "collapsed": false
   },
   "outputs": [
    {
     "ename": "NameError",
     "evalue": "name 'randint' is not defined",
     "output_type": "error",
     "traceback": [
      "\u001b[0;31m---------------------------------------------------------------------------\u001b[0m",
      "\u001b[0;31mNameError\u001b[0m                                 Traceback (most recent call last)",
      "\u001b[0;32m<ipython-input-3-1e7771fbc848>\u001b[0m in \u001b[0;36m<module>\u001b[0;34m()\u001b[0m\n\u001b[0;32m----> 1\u001b[0;31m \u001b[0mrandint\u001b[0m\u001b[0;34m(\u001b[0m\u001b[0;36m1\u001b[0m\u001b[0;34m,\u001b[0m\u001b[0;36m6\u001b[0m\u001b[0;34m)\u001b[0m\u001b[0;34m\u001b[0m\u001b[0m\n\u001b[0m",
      "\u001b[0;31mNameError\u001b[0m: name 'randint' is not defined"
     ]
    }
   ],
   "source": [
    "randint(1,6)"
   ]
  },
  {
   "cell_type": "markdown",
   "metadata": {},
   "source": [
    "Wir bekommen aber eine Fehlermeldung dass 'randint' nicht definiert ist. Was bedeutet das? Python ist sehr modular aufgebaut. Die random Funktion ist ein extra Modul und muss zunächst importiert werden:"
   ]
  },
  {
   "cell_type": "code",
   "execution_count": 2,
   "metadata": {
    "collapsed": true
   },
   "outputs": [],
   "source": [
    "from random import randint"
   ]
  },
  {
   "cell_type": "markdown",
   "metadata": {},
   "source": [
    "Wenn ihr den Block oben mit Shift-Enter passiert zunächst nichts. Aber das random Modul wurde nun automatisch in unser Notizbuch geladen und wir können nun nochmals probieren, ob die randint Funktion funktioniert:\n"
   ]
  },
  {
   "cell_type": "code",
   "execution_count": 3,
   "metadata": {
    "collapsed": false
   },
   "outputs": [
    {
     "data": {
      "text/plain": [
       "0"
      ]
     },
     "execution_count": 3,
     "metadata": {},
     "output_type": "execute_result"
    }
   ],
   "source": [
    "randint(0,4)"
   ]
  },
  {
   "cell_type": "markdown",
   "metadata": {},
   "source": [
    "Probiert es öfter. Bei jedem Aufruf sollte sich die Ausgabe verändern! Versucht nun die Ausgabe von randint in einer Variable zu speichern und erst später ausgeben zu lassen. Wenn das klappt, dann probiert noch einen Text hinzuzufügen z.B. \"Deine heutige Glueckszahl ist: \" Verwende dazu die randint Funktion und 2x das print statement:"
   ]
  },
  {
   "cell_type": "code",
   "execution_count": null,
   "metadata": {
    "collapsed": false
   },
   "outputs": [],
   "source": []
  },
  {
   "cell_type": "markdown",
   "metadata": {},
   "source": [
    "### Bedingte Anweisungen\n",
    "\n",
    "Zu bestimmten Zeiten sind gewisse Entscheidungen unvermeidlich. Bisher sind wir in der Lage Programme zu schreiben, in denen eine Anweisung auf die andere folgt und diese auch in dieser Reihenfolge ausgeführt werden. In einer Programmiersprache versteht man unter einer bedingten Anweisung, wie man Verzweigungen auch nennt, Codeteile, die unter bestimmten Bedingungen ausgeführt werden. Liegt die Bedingung nicht vor, wird dieser Code nicht ausgeführt. Anders ausgedrückt: Eine Verzweigung legt fest welcher von zwei (oder auch mehr) Programmteilen (Alternativen) in Abhängigkeit von einer (oder mehreren) Bedingungen ausgeführt wird. Normalerweise sieht das so in Python aus:"
   ]
  },
  {
   "cell_type": "code",
   "execution_count": null,
   "metadata": {
    "collapsed": true
   },
   "outputs": [],
   "source": [
    "if bedingung1:\n",
    "    anweisungen1"
   ]
  },
  {
   "cell_type": "markdown",
   "metadata": {},
   "source": [
    "Ihr seht die zweite Zeile ist eingerückt. Mit der Tabulator-Taste macht man die Einrückung. Wie funktionieren nun diese Anweisung. Mit der Bedingung überprüft man ob ein Zustand \"wahr\" oder \"falsch\" ist\n"
   ]
  },
  {
   "cell_type": "code",
   "execution_count": 16,
   "metadata": {
    "collapsed": false
   },
   "outputs": [],
   "source": [
    "nummer1 = 3\n",
    "nummer2 = 4\n",
    "if nummer1 == nummer2:\n",
    "    print \"das ist tatsaechlich wahr!!!!\""
   ]
  },
  {
   "cell_type": "markdown",
   "metadata": {},
   "source": [
    "Versucht nun mal die Nummern zu ändern. Plötzlich verschwindet der Output, weil die Bedingung nicht mehr zutrifft. Man verwendet hir zwei == Zeichen, um die beiden Werte zu vergleichen. Das Gegenstück zum *if* ist das *else*, mit welchem man alles abfangen kann, was nicht zutrifft:\n"
   ]
  },
  {
   "cell_type": "code",
   "execution_count": 17,
   "metadata": {
    "collapsed": false
   },
   "outputs": [
    {
     "name": "stdout",
     "output_type": "stream",
     "text": [
      "meow\n"
     ]
    }
   ],
   "source": [
    "nummer1 = 3\n",
    "nummer2 = 5\n",
    "if nummer1 == nummer2:\n",
    "    print \"das ist wahr\"\n",
    "else:\n",
    "    print \"meow\""
   ]
  },
  {
   "cell_type": "markdown",
   "metadata": {},
   "source": [
    "Der Output sollte meow sein. Probiert jetzt mal \"das ist wahr\" ausgeben zu lassen. Was muss man verändern?"
   ]
  },
  {
   "cell_type": "markdown",
   "metadata": {},
   "source": [
    "Man kann aber auch überprüfen ob der Wert einen gewisse Grenze überschreitet mit dem kleiner und grösser Zeichen < >: versucht das > mit dem < zu vertauschen. Verändert sich der Output?\n"
   ]
  },
  {
   "cell_type": "code",
   "execution_count": 18,
   "metadata": {
    "collapsed": false
   },
   "outputs": [
    {
     "name": "stdout",
     "output_type": "stream",
     "text": [
      "nummer2 ist groesser als nummer1\n"
     ]
    }
   ],
   "source": [
    "nummer1 = 3\n",
    "nummer2 = 5\n",
    "if nummer1 > nummer2:\n",
    "    print \"nummer1 ist groesser als nummer2\"\n",
    "else:\n",
    "    print \"nummer2 ist groesser als nummer1\""
   ]
  },
  {
   "cell_type": "markdown",
   "metadata": {},
   "source": [
    "Ein Problem, dass relativ oft vorkommt, ist wenn man zwei verschiedene Datentypen (z.B. eine Zahl und einen Text) miteinander verknüpfen mag. Seht selbst:"
   ]
  },
  {
   "cell_type": "code",
   "execution_count": 19,
   "metadata": {
    "collapsed": false
   },
   "outputs": [
    {
     "ename": "TypeError",
     "evalue": "cannot concatenate 'str' and 'int' objects",
     "output_type": "error",
     "traceback": [
      "\u001b[0;31m---------------------------------------------------------------------------\u001b[0m",
      "\u001b[0;31mTypeError\u001b[0m                                 Traceback (most recent call last)",
      "\u001b[0;32m<ipython-input-19-fa6827b2d0ed>\u001b[0m in \u001b[0;36m<module>\u001b[0;34m()\u001b[0m\n\u001b[0;32m----> 1\u001b[0;31m \u001b[0;34m\"Die Zufallszahl ist: \"\u001b[0m \u001b[0;34m+\u001b[0m \u001b[0;36m2\u001b[0m\u001b[0;34m\u001b[0m\u001b[0m\n\u001b[0m",
      "\u001b[0;31mTypeError\u001b[0m: cannot concatenate 'str' and 'int' objects"
     ]
    }
   ],
   "source": [
    "\"Die Zufallszahl ist: \" + 2\n"
   ]
  },
  {
   "cell_type": "markdown",
   "metadata": {},
   "source": [
    "Wir bekommen die Fehlermeldung \"TypeError: cannot concatenate 'str' and 'int' objects\". Heisst übersetzt: Python kann nicht eine Zahl mit einem Text verknüpfen. Man kann aber die Zahl (also das int objekt) automatische in einen Text verwandeln. Dazu verwendet man die str() Funktion. "
   ]
  },
  {
   "cell_type": "code",
   "execution_count": 20,
   "metadata": {
    "collapsed": false
   },
   "outputs": [
    {
     "data": {
      "text/plain": [
       "'3'"
      ]
     },
     "execution_count": 20,
     "metadata": {},
     "output_type": "execute_result"
    }
   ],
   "source": [
    "str(3)"
   ]
  },
  {
   "cell_type": "code",
   "execution_count": 21,
   "metadata": {
    "collapsed": false
   },
   "outputs": [
    {
     "data": {
      "text/plain": [
       "'Die Zufallszahl ist: 4'"
      ]
     },
     "execution_count": 21,
     "metadata": {},
     "output_type": "execute_result"
    }
   ],
   "source": [
    "\"Die Zufallszahl ist: \" + str(4)"
   ]
  },
  {
   "cell_type": "markdown",
   "metadata": {},
   "source": [
    "Versucht diesen Text \"Die Zufallszahl ist: \" nun mit der random Funktion zu verknüpfen. Bei jedem Ausführen soll eine neue Zahl erscheinen."
   ]
  },
  {
   "cell_type": "code",
   "execution_count": null,
   "metadata": {
    "collapsed": true
   },
   "outputs": [],
   "source": []
  },
  {
   "cell_type": "markdown",
   "metadata": {},
   "source": [
    "Neben if und else gibt es aber noch elif um bedingte Anweisungen zu schreiben. \n"
   ]
  },
  {
   "cell_type": "code",
   "execution_count": 31,
   "metadata": {
    "collapsed": false
   },
   "outputs": [
    {
     "name": "stdout",
     "output_type": "stream",
     "text": [
      "weder 1 noch 2\n"
     ]
    }
   ],
   "source": [
    "nummer = randint(1,5)\n",
    "if nummer == 1:\n",
    "    print \"die zahl ist eins\"\n",
    "elif nummer == 2:\n",
    "    print \"die zahl ist zwei\"\n",
    "else:\n",
    "    print \"weder 1 noch 2\""
   ]
  },
  {
   "cell_type": "markdown",
   "metadata": {},
   "source": [
    "Baut mit diesen Elementen einen Zufallswürfel. Zeichnet euch auf einem Blatt Papier die Logik von dem Programm auf. Man verwendet hierfür oft ein sogenanntes [Block-Diagramm](https://en.wikipedia.org/wiki/Functional_block_diagram). Schreibt den Code in den unteren Code-Block: "
   ]
  },
  {
   "cell_type": "code",
   "execution_count": null,
   "metadata": {
    "collapsed": true
   },
   "outputs": [],
   "source": []
  },
  {
   "cell_type": "markdown",
   "metadata": {},
   "source": [
    "Es geht nun weiter mit Schleifen ..."
   ]
  },
  {
   "cell_type": "markdown",
   "metadata": {},
   "source": [
    "### Schleifen und Einrückungen\n",
    "\n",
    "Was sind Schleifen? Man kann den Computer repetitive Sachen ganz einfach mit Schleifen machen lassen. Schleifen, werden benötigt, um einen Codeblock, den man auch als Schleifenkörper bezeichnet, wiederholt auszuführen. In Python gibt es zwei Schleifentypen: die while-Schleife und die for-Schleife."
   ]
  },
  {
   "cell_type": "code",
   "execution_count": 39,
   "metadata": {
    "collapsed": false
   },
   "outputs": [
    {
     "name": "stdout",
     "output_type": "stream",
     "text": [
      "5\n"
     ]
    }
   ],
   "source": [
    "a = 5\n",
    "while a < 5:\n",
    "    a = a + 1\n",
    "    print a\n",
    "print a"
   ]
  },
  {
   "cell_type": "code",
   "execution_count": 40,
   "metadata": {
    "collapsed": false
   },
   "outputs": [
    {
     "name": "stdout",
     "output_type": "stream",
     "text": [
      "0\n",
      "1\n",
      "2\n",
      "3\n",
      "4\n"
     ]
    }
   ],
   "source": [
    "for i in range(5):\n",
    "    print i"
   ]
  },
  {
   "cell_type": "markdown",
   "metadata": {},
   "source": [
    "#### Zeit und Delay"
   ]
  },
  {
   "cell_type": "markdown",
   "metadata": {},
   "source": [
    "Mit dem Modul \"time\" kann man eine Zeitkomponente zu unseren Python Skripts hinzufügen"
   ]
  },
  {
   "cell_type": "code",
   "execution_count": 43,
   "metadata": {
    "collapsed": false
   },
   "outputs": [
    {
     "name": "stdout",
     "output_type": "stream",
     "text": [
      "hello\n",
      "world\n"
     ]
    }
   ],
   "source": [
    "from time import sleep\n",
    "\n",
    "print \"hello\"\n",
    "sleep(1)\n",
    "print \"world\""
   ]
  },
  {
   "cell_type": "markdown",
   "metadata": {},
   "source": [
    "Mit sleep kann man das Programm für eine gewisse Zeit pausieren. D. h. der Computer pausiert für die Zeit welchen in den runden Klammern übergeben wird (1 sekunde). Probiert mal den Wert zu ändern. Funktioniert 0.1 ?"
   ]
  },
  {
   "cell_type": "code",
   "execution_count": 45,
   "metadata": {
    "collapsed": false
   },
   "outputs": [
    {
     "name": "stdout",
     "output_type": "stream",
     "text": [
      "yes\n"
     ]
    }
   ],
   "source": [
    "sleep(0.1)\n",
    "print \"yes\""
   ]
  },
  {
   "cell_type": "markdown",
   "metadata": {},
   "source": [
    "Verknüpfen wir das mit der for Schleife, um genauer zu verstehen, was in der Schleife passiert:"
   ]
  },
  {
   "cell_type": "code",
   "execution_count": 47,
   "metadata": {
    "collapsed": false
   },
   "outputs": [
    {
     "name": "stdout",
     "output_type": "stream",
     "text": [
      "0\n",
      "1\n",
      "2\n",
      "3\n",
      "4\n"
     ]
    }
   ],
   "source": [
    "for i in range(5):\n",
    "    print i\n",
    "    time.sleep(1)"
   ]
  },
  {
   "cell_type": "code",
   "execution_count": null,
   "metadata": {
    "collapsed": true
   },
   "outputs": [],
   "source": [
    "zaehler = 5\n",
    "for i in range(zaehler):\n",
    "    print i\n",
    "    time.sleep(1)"
   ]
  },
  {
   "cell_type": "markdown",
   "metadata": {},
   "source": [
    "Wie kann man daraus einen abwärts zählenden Counter bauen? Man subtrahiert einfach"
   ]
  },
  {
   "cell_type": "code",
   "execution_count": 48,
   "metadata": {
    "collapsed": false,
    "scrolled": true
   },
   "outputs": [
    {
     "name": "stdout",
     "output_type": "stream",
     "text": [
      "5\n",
      "4\n",
      "3\n",
      "2\n",
      "1\n"
     ]
    }
   ],
   "source": [
    "zaehler = 5\n",
    "for i in range(zaehler):\n",
    "    print zaehler - i\n",
    "    time.sleep(1)"
   ]
  },
  {
   "cell_type": "markdown",
   "metadata": {},
   "source": [
    "### Listen\n",
    "\n",
    "Eine Liste kann man als einen Stapelspeicher (englisch: stack) ansehen. Man kann beliebig lange Listen erstellen, entweder mit Zahlen oder mit Text, oder mit beiden. Eine Liste von Werten (Elemente) wird durch Kommas getrennt und von eckigen Klammern eingeschlossen. So definiert man eine Liste"
   ]
  },
  {
   "cell_type": "code",
   "execution_count": 49,
   "metadata": {
    "collapsed": false
   },
   "outputs": [
    {
     "name": "stdout",
     "output_type": "stream",
     "text": [
      "['batman', 'saxplayer', 'technoviking', 'nyancat']\n"
     ]
    }
   ],
   "source": [
    "meineListe = [\"batman\",\"saxplayer\",\"technoviking\",\"nyancat\"]\n",
    "print meineListe"
   ]
  },
  {
   "cell_type": "markdown",
   "metadata": {},
   "source": [
    "Listen sind oft hilfreich (das werden wir später beim Web-Scraping sehen), wo viele Daten meist über Listen gespeichert werden. Um die einzelnen Texte aus der Liste nun auszulesen, kann man einfach schreiben:"
   ]
  },
  {
   "cell_type": "code",
   "execution_count": 50,
   "metadata": {
    "collapsed": false
   },
   "outputs": [
    {
     "name": "stdout",
     "output_type": "stream",
     "text": [
      "batman\n"
     ]
    }
   ],
   "source": [
    "print meineListe[0]"
   ]
  },
  {
   "cell_type": "markdown",
   "metadata": {},
   "source": [
    "Probiert mal alle vier Listenelemente mit print auszugeben:"
   ]
  },
  {
   "cell_type": "code",
   "execution_count": null,
   "metadata": {
    "collapsed": true
   },
   "outputs": [],
   "source": []
  },
  {
   "cell_type": "markdown",
   "metadata": {},
   "source": [
    "Das praktische ist, dass man Schleifen gemeinsam mit Listen verwenden kann."
   ]
  },
  {
   "cell_type": "code",
   "execution_count": 51,
   "metadata": {
    "collapsed": false
   },
   "outputs": [
    {
     "name": "stdout",
     "output_type": "stream",
     "text": [
      "batman\n",
      "saxplayer\n",
      "technoviking\n",
      "nyancat\n"
     ]
    }
   ],
   "source": [
    "for element in meineListe:\n",
    "    print element"
   ]
  },
  {
   "cell_type": "markdown",
   "metadata": {},
   "source": [
    "Wenn ich die Länge der Liste verändere, kann ich mit derselben for Schleife alle ausgeben:"
   ]
  },
  {
   "cell_type": "code",
   "execution_count": 52,
   "metadata": {
    "collapsed": false
   },
   "outputs": [
    {
     "name": "stdout",
     "output_type": "stream",
     "text": [
      "batman\n",
      "saxplayer\n",
      "technoviking\n",
      "nyancat\n",
      "tronkid\n",
      "trollface\n",
      "Rick Ross\n"
     ]
    }
   ],
   "source": [
    "meineListe = [\"batman\",\"saxplayer\",\"technoviking\",\"nyancat\",\"tronkid\",\"trollface\",\"Rick Ross\"]\n",
    "for element in meineListe:\n",
    "    print element"
   ]
  },
  {
   "cell_type": "markdown",
   "metadata": {},
   "source": [
    "Wir können die Reihenfolge in der Liste mit der Funktion shuffle per Zufall durcheinanderbringen: "
   ]
  },
  {
   "cell_type": "code",
   "execution_count": 58,
   "metadata": {
    "collapsed": false
   },
   "outputs": [],
   "source": [
    "random.shuffle(meineListe)"
   ]
  },
  {
   "cell_type": "markdown",
   "metadata": {},
   "source": [
    "Das tut zunächst gar nichts, zumindest sieht es so aus. Aber die Reihenfolge wurde bereits geändert, wenn wir nun meineListe ausgeben lassen, sehen wir folgendes:"
   ]
  },
  {
   "cell_type": "code",
   "execution_count": 60,
   "metadata": {
    "collapsed": false
   },
   "outputs": [
    {
     "data": {
      "text/plain": [
       "['tronkid',\n",
       " 'batman',\n",
       " 'trollface',\n",
       " 'nyancat',\n",
       " 'saxplayer',\n",
       " 'Rick Ross',\n",
       " 'technoviking']"
      ]
     },
     "execution_count": 60,
     "metadata": {},
     "output_type": "execute_result"
    }
   ],
   "source": [
    "meineListe"
   ]
  },
  {
   "cell_type": "code",
   "execution_count": 66,
   "metadata": {
    "collapsed": false
   },
   "outputs": [
    {
     "name": "stdout",
     "output_type": "stream",
     "text": [
      "there the was in word the beginning\n"
     ]
    }
   ],
   "source": [
    "neueListe = [\"in\",\"the\",\"beginning\",\"there\",\"was\",\"the\",\"word\"]\n",
    "random.shuffle(neueListe)\n",
    "print \" \".join(neueListe)"
   ]
  },
  {
   "cell_type": "code",
   "execution_count": null,
   "metadata": {
    "collapsed": true
   },
   "outputs": [],
   "source": []
  }
 ],
 "metadata": {
  "kernelspec": {
   "display_name": "Python 2",
   "language": "python",
   "name": "python2"
  },
  "language_info": {
   "codemirror_mode": {
    "name": "ipython",
    "version": 2
   },
   "file_extension": ".py",
   "mimetype": "text/x-python",
   "name": "python",
   "nbconvert_exporter": "python",
   "pygments_lexer": "ipython2",
   "version": "2.7.12"
  }
 },
 "nbformat": 4,
 "nbformat_minor": 1
}
