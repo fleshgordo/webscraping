{
 "cells": [
  {
   "cell_type": "markdown",
   "metadata": {},
   "source": [
    "# Files schreiben\n",
    "\n",
    "Mit Python kann man auf einface Art und Weise Textfiles erstellen und/oder lesen. Das kann hilfreich sein, wenn man z. B. Variablen die ein Python Skript aus dem Web \"scrapped\" speichern mag. In diesem Beispielen verwende ich die [Markdown](https://daringfireball.net/projects/markdown/syntax) Syntax. Das ist eine Markup Sprache (keine Programmiersprache) und macht das Formatieren von reinen Textdokumenten einfach. Aber zunächst erstellen wir einmal ein File:"
   ]
  },
  {
   "cell_type": "code",
   "execution_count": 2,
   "metadata": {
    "collapsed": true
   },
   "outputs": [],
   "source": [
    "datei = open(\"test.md\",\"w\")"
   ]
  },
  {
   "cell_type": "markdown",
   "metadata": {},
   "source": [
    "Mit der Funktion öffnet man ein File Objekt, dass wir in der Variable \"datei\" abspeichern. Um jetzt einen Text im File abzuspeichern, kann man die Funktion write() aufrufen. Das sieht so aus:"
   ]
  },
  {
   "cell_type": "code",
   "execution_count": 3,
   "metadata": {
    "collapsed": false
   },
   "outputs": [],
   "source": [
    "datei.write(\"# Erste überschrift\")"
   ]
  },
  {
   "cell_type": "markdown",
   "metadata": {},
   "source": [
    "Danach müssen wir die Datei schliessen."
   ]
  },
  {
   "cell_type": "code",
   "execution_count": 4,
   "metadata": {
    "collapsed": true
   },
   "outputs": [],
   "source": [
    "datei.close()"
   ]
  },
  {
   "cell_type": "markdown",
   "metadata": {},
   "source": [
    "Seht mal im Ordner nach, ob ihr ein neues File habt. Ihr könnt auch im Terminal einfach mal folgendes ausprobieren:\n",
    "\n",
    "~~~~\n",
    "cat test.md\n",
    "~~~~\n"
   ]
  },
  {
   "cell_type": "markdown",
   "metadata": {},
   "source": [
    "Oft wird ein Loop verwendet, um etwas in eine Datei zu schreiben. Nehmen wir mal an, wir möchten 10 Zeilen mit unterschiedlichem Text in die Datei schreiben"
   ]
  },
  {
   "cell_type": "code",
   "execution_count": 5,
   "metadata": {
    "collapsed": true
   },
   "outputs": [],
   "source": [
    "# zuerst datei oeffnen\n",
    "datei = open(\"test.md\",\"w\")\n",
    "\n",
    "# erstelle den for loop, welcher 10 mal die nächste zeile ausführen wird\n",
    "for i in range(10):\n",
    "    # das str(i) braucht man um die Variable i in einen Text zu konvertieren\n",
    "    datei.write(\"# \" + str(i) + \" überschrift\")\n",
    "    \n",
    "# nach dem Loop schliessen wir die Datei\n",
    "datei.close()\n",
    "    "
   ]
  },
  {
   "cell_type": "markdown",
   "metadata": {},
   "source": [
    "Seht euch das File an. Was bemerkt ihr? Es wird alles in eine einzige Zeile geschrieben. Einen Zeilenumbruch bewirkt man mit dem Zeichen \"\\n\" \\n steht für newline."
   ]
  },
  {
   "cell_type": "code",
   "execution_count": 7,
   "metadata": {
    "collapsed": true
   },
   "outputs": [],
   "source": [
    "datei = open(\"test.md\",\"w\")\n",
    "for i in range(10):\n",
    "    datei.write(\"# \" + str(i) + \" überschrift\\n\")\n",
    "datei.close()"
   ]
  },
  {
   "cell_type": "markdown",
   "metadata": {},
   "source": [
    "Mit dem Markdown Textdokument kann man einfach ein PDF generieren. Stellt sicher, dass ihr das Kommandozeilen Programm [pandoc](http://pandoc.org/) installiert habt. Pandoc ist das Swiss-knife um Textformate zu konvertieren (von txt zu html, von html zu pdf, von pdf zu text, von markdown zu pdf, etc...) Im Terminal gebt ein:\n",
    "~~~~\n",
    "pandoc --version\n",
    "~~~~\n",
    "Seht ihr einen Text mit der Versionsnummer? Bestens!\n",
    "\n",
    "Oder seht ihr:\n",
    "~~~~\n",
    "command not found: pandoc\n",
    "~~~~\n",
    "\n",
    "\n",
    "**Linux** user müssen folgendes installieren\n",
    "~~~~\n",
    "sudo apt-get install pandoc texlive-base texlive-latex-recommended texlive-fonts-recommended\n",
    "~~~~\n",
    "\n",
    "**Mac OS X User**\n",
    "Ihr habt auch kein brew? Das installiert man so:\n",
    "~~~~~\n",
    "/usr/bin/ruby -e \"$(curl -fsSL https://raw.githubusercontent.com/Homebrew/install/master/install)\"\n",
    "~~~~~\n",
    "\n",
    "Ihr müsst Pandoc installieren mit brew:\n",
    "~~~~~\n",
    "brew install pandoc\n",
    "~~~~~\n",
    "\n",
    "Bevor wir mit Pandoc ein PDF generieren können, müssen wir noch sicherstellen, dass wir Latex installiert haben. Hier ist der Link zum [Package](http://tug.org/cgi-bin/mactex-download/BasicTeX.pkg)\n",
    "\n",
    "Man kann nun pandoc aufrufen (der -o Parameter steht für Output, d.h. in welches File der Output (=PDF) geschrieben werden soll.\n",
    "~~~~\n",
    "pandoc test.md -o test.pdf\n",
    "~~~~\n",
    "\n",
    "Voila. Ihr habt ein Python Programm erstellt welches automatisch ein PDF erzeugt. Der Text ist jetzt noch statisch, aber wir können uns bereits vorstellen, dass der Text aus dem Web, aus einem Chat, aus einem Twitter Feed kommen kann. \n",
    "\n",
    "Wir haben bisher gesehen wie man einen Zeilenumbruch bewirken kann. Interessant wäre noch wie wir einen Seitenumbruch bezwingt. Dafür muss man eine LaTex Formatierung anwenden, da die Markdown Sprache eigentlich keine Seitenumbrüche vorgesehen hat, da es rein als Screen-Markup Sprache gedacht war. In unserem kleinen Python Skript fügen wir nun noch ein weitere Textformatierung hinzu:"
   ]
  },
  {
   "cell_type": "code",
   "execution_count": 11,
   "metadata": {
    "collapsed": true
   },
   "outputs": [],
   "source": [
    "datei = open(\"test.md\",\"w\")\n",
    "for i in range(10):\n",
    "    datei.write(\"# \" + str(i) + \" überschrift\\n\")\n",
    "    # Achtung: Wir sehen ein kleines r vor dem Text: Warum? Da Python sonst das |n\n",
    "    # von |newpage als Zeilenumbruch interpretieren würde. r steht für RAW\n",
    "    datei.write(r\"\\newpage\")\n",
    "datei.close()"
   ]
  },
  {
   "cell_type": "markdown",
   "metadata": {},
   "source": [
    "### Bilder in Markdown\n",
    "\n",
    "Man kann in die Markdown Syntax auch Bilder einfügen. Die Markdown Syntax ist\n"
   ]
  },
  {
   "cell_type": "code",
   "execution_count": 20,
   "metadata": {
    "collapsed": false
   },
   "outputs": [],
   "source": [
    "datei = open(\"test.md\",\"w\")\n",
    "datei.write(\"![Image caption](img/code.jpg)\")\n",
    "datei.close()"
   ]
  },
  {
   "cell_type": "markdown",
   "metadata": {},
   "source": [
    "Wenn ihr nun das PDF wieder in der Kommandozeile generiert, dann seht ihr das unter dem Bild eine Legende steht. Das kann man aber ausblenden lassen, indem man das pandoc Kommando ein wenig verändert:\n",
    "~~~~\n",
    "pandoc test.md -fmarkdown-implicit_figures -o test.pdf\n",
    "~~~~\n",
    "\n",
    "Man kann aber noch andere Parameter dem pandoc übergeben, wie z.B. Margins, Ausgabeformat etc... Hier ein paar Beispiele:\n",
    "\n",
    "Grössere Margins/Seitenrand\n",
    "~~~~\n",
    "pandoc test.md -V geometry:margin=2in -o test.pdf\n",
    "~~~~\n",
    "\n",
    "Oder das Papierformat definieren\n",
    "~~~~\n",
    "pandoc test.md -V geometry:a5paper -o test.pdf\n",
    "~~~~"
   ]
  },
  {
   "cell_type": "markdown",
   "metadata": {},
   "source": [
    "## Files lesen\n",
    "\n",
    "Man kann Textfiles in Python leicht öffnen. Nehmen wir an wir haben ein txt File, welches wir Zeile für Zeile auslesen möchten. Zunächst müssen wir das File öffnen. In den Klammern definieren wir den Filenamen (+Pfad) und mit \"r\" definieren wir, dass wir das File nur \"r\"eaden wollen. Also nur lesen."
   ]
  },
  {
   "cell_type": "code",
   "execution_count": 2,
   "metadata": {
    "collapsed": false
   },
   "outputs": [
    {
     "ename": "IOError",
     "evalue": "[Errno 2] No such file or directory: './txt/trump.txt'",
     "output_type": "error",
     "traceback": [
      "\u001b[0;31m---------------------------------------------------------------------------\u001b[0m",
      "\u001b[0;31mIOError\u001b[0m                                   Traceback (most recent call last)",
      "\u001b[0;32m<ipython-input-2-8429b6da007b>\u001b[0m in \u001b[0;36m<module>\u001b[0;34m()\u001b[0m\n\u001b[0;32m----> 1\u001b[0;31m \u001b[0mdatei\u001b[0m \u001b[0;34m=\u001b[0m \u001b[0mopen\u001b[0m\u001b[0;34m(\u001b[0m\u001b[0;34m\"./txt/trump.txt\"\u001b[0m\u001b[0;34m,\u001b[0m\u001b[0;34m\"r\"\u001b[0m\u001b[0;34m)\u001b[0m\u001b[0;34m\u001b[0m\u001b[0m\n\u001b[0m",
      "\u001b[0;31mIOError\u001b[0m: [Errno 2] No such file or directory: './txt/trump.txt'"
     ]
    }
   ],
   "source": [
    "datei = open(\"./txt/trump.txt\",\"r\")"
   ]
  },
  {
   "cell_type": "code",
   "execution_count": null,
   "metadata": {
    "collapsed": true
   },
   "outputs": [],
   "source": []
  }
 ],
 "metadata": {
  "kernelspec": {
   "display_name": "Python 2",
   "language": "python",
   "name": "python2"
  },
  "language_info": {
   "codemirror_mode": {
    "name": "ipython",
    "version": 2
   },
   "file_extension": ".py",
   "mimetype": "text/x-python",
   "name": "python",
   "nbconvert_exporter": "python",
   "pygments_lexer": "ipython2",
   "version": "2.7.12"
  }
 },
 "nbformat": 4,
 "nbformat_minor": 1
}
