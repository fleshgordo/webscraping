{
 "cells": [
  {
   "cell_type": "markdown",
   "metadata": {},
   "source": [
    "# Files schreiben\n",
    "\n",
    "Mit Python kann man auf einface Art und Weise Textfiles erstellen und/oder lesen. Das kann hilfreich sein, wenn man z. B. Variablen die ein Python Skript aus dem Web \"scrapped\" speichern mag. In diesem Beispielen verwende ich die [Markdown](https://daringfireball.net/projects/markdown/syntax) Syntax. Das ist eine Markup Sprache (keine Programmiersprache) und macht das Formatieren von reinen Textdokumenten einfach. Aber zunächst erstellen wir einmal ein File. In den Klammern sind zwei \"Argumente\", erstens der Filename und zweites ein Parameter wie man dass File öffnen mag (w steht für write, a steht für append d.h. es öffnet ein File und hängt was neues dran). Mehr zum File Input/Output schreiben [hier](https://docs.python.org/2/tutorial/inputoutput.html)"
   ]
  },
  {
   "cell_type": "code",
   "execution_count": 2,
   "metadata": {
    "collapsed": true
   },
   "outputs": [],
   "source": [
    "datei = open(\"test.md\",\"w\")"
   ]
  },
  {
   "cell_type": "markdown",
   "metadata": {},
   "source": [
    "Mit der Funktion öffnet man ein File Objekt, dass wir in der Variable \"datei\" abspeichern. Um jetzt einen Text im File abzuspeichern, kann man die Funktion write() aufrufen. Das sieht so aus:"
   ]
  },
  {
   "cell_type": "code",
   "execution_count": 3,
   "metadata": {
    "collapsed": false
   },
   "outputs": [],
   "source": [
    "datei.write(\"# Erste überschrift\")"
   ]
  },
  {
   "cell_type": "markdown",
   "metadata": {},
   "source": [
    "Danach müssen wir die Datei schliessen."
   ]
  },
  {
   "cell_type": "code",
   "execution_count": 4,
   "metadata": {
    "collapsed": true
   },
   "outputs": [],
   "source": [
    "datei.close()"
   ]
  },
  {
   "cell_type": "markdown",
   "metadata": {},
   "source": [
    "Seht mal im Ordner nach, ob ihr ein neues File habt. Ihr könnt auch im Terminal einfach mal folgendes ausprobieren:\n",
    "\n",
    "~~~~\n",
    "cat test.md\n",
    "~~~~\n"
   ]
  },
  {
   "cell_type": "markdown",
   "metadata": {},
   "source": [
    "Oft wird ein Loop verwendet, um etwas in eine Datei zu schreiben. Nehmen wir mal an, wir möchten 10 Zeilen mit unterschiedlichem Text in die Datei schreiben"
   ]
  },
  {
   "cell_type": "code",
   "execution_count": 5,
   "metadata": {
    "collapsed": true
   },
   "outputs": [],
   "source": [
    "# zuerst datei oeffnen\n",
    "datei = open(\"test.md\",\"w\")\n",
    "\n",
    "# erstelle den for loop, welcher 10 mal die nächste zeile ausführen wird\n",
    "for i in range(10):\n",
    "    # das str(i) braucht man um die Variable i in einen Text zu konvertieren\n",
    "    datei.write(\"# \" + str(i) + \" überschrift\")\n",
    "    \n",
    "# nach dem Loop schliessen wir die Datei\n",
    "datei.close()\n",
    "    "
   ]
  },
  {
   "cell_type": "markdown",
   "metadata": {},
   "source": [
    "Seht euch das File an. Was bemerkt ihr? Es wird alles in eine einzige Zeile geschrieben. Einen Zeilenumbruch bewirkt man mit dem Zeichen \"\\n\" \\n steht für newline."
   ]
  },
  {
   "cell_type": "code",
   "execution_count": 7,
   "metadata": {
    "collapsed": true
   },
   "outputs": [],
   "source": [
    "datei = open(\"test.md\",\"w\")\n",
    "for i in range(10):\n",
    "    datei.write(\"# \" + str(i) + \" überschrift\\n\")\n",
    "datei.close()"
   ]
  },
  {
   "cell_type": "markdown",
   "metadata": {},
   "source": [
    "Mit dem Markdown Textdokument kann man einfach ein PDF generieren. Stellt sicher, dass ihr das Kommandozeilen Programm [pandoc](http://pandoc.org/) installiert habt. Pandoc ist das Swiss-knife um Textformate zu konvertieren (von txt zu html, von html zu pdf, von pdf zu text, von markdown zu pdf, etc...) Im Terminal gebt ein:\n",
    "~~~~\n",
    "pandoc --version\n",
    "~~~~\n",
    "Seht ihr einen Text mit der Versionsnummer? Bestens!\n",
    "\n",
    "Oder seht ihr:\n",
    "~~~~\n",
    "command not found: pandoc\n",
    "~~~~\n",
    "\n",
    "\n",
    "**Linux** user müssen folgendes installieren\n",
    "~~~~\n",
    "sudo apt-get install pandoc texlive-base texlive-latex-recommended texlive-fonts-recommended\n",
    "~~~~\n",
    "\n",
    "**Mac OS X User**\n",
    "Ihr habt auch kein brew? Das installiert man so:\n",
    "~~~~~\n",
    "/usr/bin/ruby -e \"$(curl -fsSL https://raw.githubusercontent.com/Homebrew/install/master/install)\"\n",
    "~~~~~\n",
    "\n",
    "Ihr müsst Pandoc installieren mit brew:\n",
    "~~~~~\n",
    "brew install pandoc\n",
    "~~~~~\n",
    "\n",
    "Bevor wir mit Pandoc ein PDF generieren können, müssen wir noch sicherstellen, dass wir Latex installiert haben. Hier ist der Link zum [Package](http://tug.org/cgi-bin/mactex-download/BasicTeX.pkg)\n",
    "\n",
    "Man kann nun pandoc aufrufen (der -o Parameter steht für Output, d.h. in welches File der Output (=PDF) geschrieben werden soll.\n",
    "~~~~\n",
    "pandoc test.md -o test.pdf\n",
    "~~~~\n",
    "\n",
    "Voila. Ihr habt ein Python Programm erstellt welches automatisch ein PDF erzeugt. Der Text ist jetzt noch statisch, aber wir können uns bereits vorstellen, dass der Text aus dem Web, aus einem Chat, aus einem Twitter Feed kommen kann. \n",
    "\n",
    "Wir haben bisher gesehen wie man einen Zeilenumbruch bewirken kann. Interessant wäre noch wie wir einen Seitenumbruch bezwingt. Dafür muss man eine LaTex Formatierung anwenden, da die Markdown Sprache eigentlich keine Seitenumbrüche vorgesehen hat, da es rein als Screen-Markup Sprache gedacht war. In unserem kleinen Python Skript fügen wir nun noch ein weitere Textformatierung hinzu:"
   ]
  },
  {
   "cell_type": "code",
   "execution_count": 11,
   "metadata": {
    "collapsed": true
   },
   "outputs": [],
   "source": [
    "datei = open(\"test.md\",\"w\")\n",
    "for i in range(10):\n",
    "    datei.write(\"# \" + str(i) + \" überschrift\\n\")\n",
    "    # Achtung: Wir sehen ein kleines r vor dem Text: Warum? Da Python sonst das |n\n",
    "    # von |newpage als Zeilenumbruch interpretieren würde. r steht für RAW\n",
    "    datei.write(r\"\\newpage\")\n",
    "datei.close()"
   ]
  },
  {
   "cell_type": "markdown",
   "metadata": {},
   "source": [
    "### Bilder in Markdown\n",
    "\n",
    "Man kann in die Markdown Syntax auch Bilder einfügen. Die Markdown Syntax ist\n"
   ]
  },
  {
   "cell_type": "code",
   "execution_count": 20,
   "metadata": {
    "collapsed": false
   },
   "outputs": [],
   "source": [
    "datei = open(\"test.md\",\"w\")\n",
    "datei.write(\"![Image caption](img/code.jpg)\")\n",
    "datei.close()"
   ]
  },
  {
   "cell_type": "markdown",
   "metadata": {},
   "source": [
    "Wenn ihr nun das PDF wieder in der Kommandozeile generiert, dann seht ihr das unter dem Bild eine Legende steht. Das kann man aber ausblenden lassen, indem man das pandoc Kommando ein wenig verändert:\n",
    "~~~~\n",
    "pandoc test.md -fmarkdown-implicit_figures -o test.pdf\n",
    "~~~~\n",
    "\n",
    "Man kann aber noch andere Parameter dem pandoc übergeben, wie z.B. Margins, Ausgabeformat etc... Hier ein paar Beispiele:\n",
    "\n",
    "Grössere Margins/Seitenrand\n",
    "~~~~\n",
    "pandoc test.md -V geometry:margin=2in -o test.pdf\n",
    "~~~~\n",
    "\n",
    "Oder das Papierformat definieren\n",
    "~~~~\n",
    "pandoc test.md -V geometry:a5paper -o test.pdf\n",
    "~~~~"
   ]
  },
  {
   "cell_type": "markdown",
   "metadata": {},
   "source": [
    "## Files lesen\n",
    "\n",
    "Man kann Textfiles in Python leicht öffnen. Nehmen wir an wir haben ein txt File, welches wir Zeile für Zeile auslesen möchten. Zunächst müssen wir das File öffnen. In den Klammern definieren wir den Filenamen (+Pfad) und mit \"r\" definieren wir, dass wir das File nur \"r\"eaden wollen. Also nur lesen."
   ]
  },
  {
   "cell_type": "code",
   "execution_count": 3,
   "metadata": {
    "collapsed": false
   },
   "outputs": [],
   "source": [
    "datei = open(\"./txt/trump.txt\",\"r\")"
   ]
  },
  {
   "cell_type": "code",
   "execution_count": 4,
   "metadata": {
    "collapsed": false,
    "scrolled": true
   },
   "outputs": [
    {
     "name": "stdout",
     "output_type": "stream",
     "text": [
      "<open file './txt/trump.txt', mode 'r' at 0x10f367810>\n"
     ]
    }
   ],
   "source": [
    "print datei"
   ]
  },
  {
   "cell_type": "markdown",
   "metadata": {},
   "source": [
    "Falls ihr \"<open file './txt/trump.txt', mode 'r' at 0x10f367810>\" das hier seht, dann scheint es erfolgreich gewesen zu sein. Legt mal ein anderes Textfile in den txt Ordner und versucht das in Python zu laden.\n",
    "\n",
    "Nun möchten wir alle Zeilen von dem Textdokument einlesen und in einer Variablen speichern. Dazu gibt es die Funktion readlines(). Wir speichern also alle Zeilen in der Variable zeilen:"
   ]
  },
  {
   "cell_type": "code",
   "execution_count": 5,
   "metadata": {
    "collapsed": true
   },
   "outputs": [],
   "source": [
    "zeilen = datei.readlines()"
   ]
  },
  {
   "cell_type": "markdown",
   "metadata": {},
   "source": [
    "Hat das geklappt? Wir überprüfen das mit dem Befehl \"print\""
   ]
  },
  {
   "cell_type": "code",
   "execution_count": 6,
   "metadata": {
    "collapsed": false
   },
   "outputs": [
    {
     "name": "stdout",
     "output_type": "stream",
     "text": [
      "['Friends, delegates and fellow Americans: I humbly and gratefully accept your nomination for the presidency of the United States.\\n', 'Together, we will lead our party back to the White House, and we will lead our country back to safety, prosperity, and peace. We will be a country of generosity and warmth. But we will also be a country of law and order.\\n', 'Our Convention occurs at a moment of crisis for our nation. The attacks on our police, and the terrorism in our cities, threaten our very way of life. Any politician who does not grasp this danger is not fit to lead our country.\\n', 'Americans watching this address tonight have seen the recent images of violence in our streets and the chaos in our communities. Many have witnessed this violence personally, some have even been its victims.\\n', 'I have a message for all of you: the crime and violence that today afflicts our nation will soon come to an end. Beginning on January 20th 2017, safety will be restored.\\n', 'The most basic duty of government is to defend the lives of its own citizens. Any government that fails to do so is a government unworthy to lead.\\n', 'It is finally time for a straightforward assessment of the state of our nation.\\n', 'I will present the facts plainly and honestly. We cannot afford to be so politically correct anymore.\\n', 'So if you want to hear the corporate spin, the carefully-crafted lies, and the media myths the Democrats are holding their convention next week.\\n', 'But here, at our convention, there will be no lies. We will honor the American people with the truth, and nothing else.\\n', 'Decades of progress made in bringing down crime are now being reversed by this Administration\\xe2\\x80\\x99s rollback of criminal enforcement.\\n', 'Homicides last year increased by 17% in America\\xe2\\x80\\x99s fifty largest cities. That\\xe2\\x80\\x99s the largest increase in 25 years. In our nation\\xe2\\x80\\x99s capital, killings have risen by 50 percent. They are up nearly 60% in nearby Baltimore.\\n', 'In the President\\xe2\\x80\\x99s hometown of Chicago, more than 2,000 have been the victims of shootings this year alone. And more than 3,600 have been killed in the Chicago area since he took office.\\n', 'The number of police officers killed in the line of duty has risen by almost 50% compared to this point last year. Nearly 180,000 illegal immigrants with criminal records, ordered deported from our country, are tonight roaming free to threaten peaceful citizens.\\n', 'The number of new illegal immigrant families who have crossed the border so far this year already exceeds the entire total from 2015. They are being released by the tens of thousands into our communities with no regard for the impact on public safety or resources.\\n', 'One such border-crosser was released and made his way to Nebraska. There, he ended the life of an innocent young girl named Sarah Root. She was 21 years-old, and was killed the day after graduating from college with a 4.0 Grade Point Average. Her killer was then released a second time, and he is now a fugitive from the law.\\n', 'I\\xe2\\x80\\x99ve met Sarah\\xe2\\x80\\x99s beautiful family. But to this Administration, their amazing daughter was just one more American life that wasn\\xe2\\x80\\x99t worth protecting. One more child to sacrifice on the altar of open borders. What about our economy?\\n', 'Again, I will tell you the plain facts that have been edited out of your nightly news and your morning newspaper: Nearly Four in 10 African-American children are living in poverty, while 58% of African American youth are not employed. 2 million more Latinos are in poverty today than when the President took his oath of office less than eight years ago. Another 14 million people have left the workforce entirely.\\n', 'Household incomes are down more than $4,000 since the year 2000. Our manufacturing trade deficit has reached an all-time high \\xe2\\x80\\x93 nearly $800 billion in a single year. The budget is no better.\\n', 'President Obama has doubled our national debt to more than $19 trillion, and growing. Yet, what do we have to show for it? Our roads and bridges are falling apart, our airports are in Third World condition, and forty-three million Americans are on food stamps.\\n', 'Now let us consider the state of affairs abroad.\\n', 'Not only have our citizens endured domestic disaster, but they have lived through one international humiliation after another. We all remember the images of our sailors being forced to their knees by their Iranian captors at gunpoint.\\n', 'This was just prior to the signing of the Iran deal, which gave back to Iran $150 billion and gave us nothing \\xe2\\x80\\x93 it will go down in history as one of the worst deals ever made. Another humiliation came when president Obama drew a red line in Syria \\xe2\\x80\\x93 and the whole world knew it meant nothing.\\n', 'In Libya, our consulate \\xe2\\x80\\x93 the symbol of American prestige around the globe \\xe2\\x80\\x93 was brought down in flames. America is far less safe \\xe2\\x80\\x93 and the world is far less stable \\xe2\\x80\\x93 than when Obama made the decision to put Hillary Clinton in charge of America\\xe2\\x80\\x99s foreign policy.\\n', 'I am certain it is a decision he truly regrets. Her bad instincts and her bad judgment \\xe2\\x80\\x93 something pointed out by Bernie Sanders \\xe2\\x80\\x93 are what caused the disasters unfolding today. Let\\xe2\\x80\\x99s review the record. In 2009, pre-Hillary, ISIS was not even on the map.\\n', 'Libya was cooperating. Egypt was peaceful. Iraq was seeing a reduction in violence. Iran was being choked by sanctions. Syria was under control. After four years of Hillary Clinton, what do we have? ISIS has spread across the region, and the world. Libya is in ruins, and our Ambassador and his staff were left helpless to die at the hands of savage killers. Egypt was turned over to the radical Muslim brotherhood, forcing the military to retake control. Iraq is in chaos.\\n', 'Iran is on the path to nuclear weapons. Syria is engulfed in a civil war and a refugee crisis that now threatens the West. After fifteen years of wars in the Middle East, after trillions of dollars spent and thousands of lives lost, the situation is worse than it has ever been before.\\n', 'This is the legacy of Hillary Clinton: death, destruction and weakness.\\n', 'But Hillary Clinton\\xe2\\x80\\x99s legacy does not have to be America\\xe2\\x80\\x99s legacy. The problems we face now \\xe2\\x80\\x93 poverty and violence at home, war and destruction abroad \\xe2\\x80\\x93 will last only as long as we continue relying on the same politicians who created them. A change in leadership is required to change these outcomes. Tonight, I will share with you my plan of action for America.\\n', 'The most important difference between our plan and that of our opponents, is that our plan will put America First. Americanism, not globalism, will be our credo. As long as we are led by politicians who will not put America First, then we can be assured that other nations will not treat America with respect. This will all change in 2017.\\n', 'The American People will come first once again. My plan will begin with safety at home \\xe2\\x80\\x93 which means safe neighborhoods, secure borders, and protection from terrorism. There can be no prosperity without law and order. On the economy, I will outline reforms to add millions of new jobs and trillions in new wealth that can be used to rebuild America.\\n', 'A number of these reforms that I will outline tonight will be opposed by some of our nation\\xe2\\x80\\x99s most powerful special interests. That is because these interests have rigged our political and economic system for their exclusive benefit.\\n', 'Big business, elite media and major donors are lining up behind the campaign of my opponent because they know she will keep our rigged system in place. They are throwing money at her because they have total control over everything she does. She is their puppet, and they pull the strings.\\n', 'That is why Hillary Clinton\\xe2\\x80\\x99s message is that things will never change. My message is that things have to change \\xe2\\x80\\x93 and they have to change right now. Every day I wake up determined to deliver for the people I have met all across this nation that have been neglected, ignored, and abandoned.\\n', 'I have visited the laid-off factory workers, and the communities crushed by our horrible and unfair trade deals. These are the forgotten men and women of our country. People who work hard but no longer have a voice.\\n', 'I AM YOUR VOICE.\\n', 'I have embraced crying mothers who have lost their children because our politicians put their personal agendas before the national good. I have no patience for injustice, no tolerance for government incompetence, no sympathy for leaders who fail their citizens.\\n', 'When innocent people suffer, because our political system lacks the will, or the courage, or the basic decency to enforce our laws \\xe2\\x80\\x93 or worse still, has sold out to some corporate lobbyist for cash \\xe2\\x80\\x93 I am not able to look the other way.\\n', 'And when a Secretary of State illegally stores her emails on a private server, deletes 33,000 of them so the authorities can\\xe2\\x80\\x99t see her crime, puts our country at risk, lies about it in every different form and faces no consequence \\xe2\\x80\\x93 I know that corruption has reached a level like never before.\\n', 'When the FBI Director says that the Secretary of State was \\xe2\\x80\\x9cextremely careless\\xe2\\x80\\x9d and \\xe2\\x80\\x9cnegligent,\\xe2\\x80\\x9d in handling our classified secrets, I also know that these terms are minor compared to what she actually did. They were just used to save her from facing justice for her terrible crimes.\\n', 'In fact, her single greatest accomplishment may be committing such an egregious crime and getting away with it \\xe2\\x80\\x93 especially when others have paid so dearly. When that same Secretary of State rakes in millions of dollars trading access and favors to special interests and foreign powers I know the time for action has come.\\n', 'I have joined the political arena so that the powerful can no longer beat up on people that cannot defend themselves. Nobody knows the system better than me, which is why I alone can fix it. I have seen firsthand how the system is rigged against our citizens, just like it was rigged against Bernie Sanders \\xe2\\x80\\x93 he never had a chance.\\n', 'But his supporters will join our movement, because we will fix his biggest issue: trade. Millions of Democrats will join our movement because we are going to fix the system so it works for all Americans. In this cause, I am proud to have at my side the next Vice President of the United States: Governor Mike Pence of Indiana.\\n', 'We will bring the same economic success to America that Mike brought to Indiana. He is a man of character and accomplishment. He is the right man for the job. The first task for our new Administration will be to liberate our citizens from the crime and terrorism and lawlessness that threatens their communities.\\n', 'America was shocked to its core when our police officers in Dallas were brutally executed. In the days after Dallas, we have seen continued threats and violence against our law enforcement officials. Law officers have been shot or killed in recent days in Georgia, Missouri, Wisconsin, Kansas, Michigan and Tennessee.\\n', 'On Sunday, more police were gunned down in Baton Rouge, Louisiana. Three were killed, and four were badly injured. An attack on law enforcement is an attack on all Americans. I have a message to every last person threatening the peace on our streets and the safety of our police: when I take the oath of office next year, I will restore law and order our country.\\n', 'Donald Trump tests the teleprompters and microphones on stage at the start of the final day of the Republican National Convention.\\n', \"Leaked document: Trump will tell the nation, 'I am your voice'\\n\", 'By ELI STOKOLS and NICK GASS\\n', 'I will work with, and appoint, the best prosecutors and law enforcement officials in the country to get the job done. In this race for the White House, I am the Law And Order candidate. The irresponsible rhetoric of our President, who has used the pulpit of the presidency to divide us by race and color, has made America a more dangerous environment for everyone.\\n', 'This Administration has failed America\\xe2\\x80\\x99s inner cities. It\\xe2\\x80\\x99s failed them on education. It\\xe2\\x80\\x99s failed them on jobs. It\\xe2\\x80\\x99s failed them on crime. It\\xe2\\x80\\x99s failed them at every level.\\n', 'When I am President, I will work to ensure that all of our kids are treated equally, and protected equally.\\n', 'Every action I take, I will ask myself: does this make life better for young Americans in Baltimore, Chicago, Detroit, Ferguson who have as much of a right to live out their dreams as any other child America?\\n', 'To make life safe in America, we must also address the growing threats we face from outside America: we are going to defeat the barbarians of ISIS. Once again, France is the victim of brutal Islamic terrorism.\\n', 'Men, women and children viciously mowed down. Lives ruined. Families ripped apart. A nation in mourning.\\n', 'The damage and devastation that can be inflicted by Islamic radicals has been over and over \\xe2\\x80\\x93 at the World Trade Center, at an office party in San Bernardino, at the Boston Marathon, and a military recruiting center in Chattanooga, Tennessee.\\n', 'Only weeks ago, in Orlando, Florida, 49 wonderful Americans were savagely murdered by an Islamic terrorist. This time, the terrorist targeted our LGBT community. As your President, I will do everything in my power to protect our LGBT citizens from the violence and oppression of a hateful foreign ideology. To protect us from terrorism, we need to focus on three things.\\n', 'We must have the best intelligence gathering operation in the world. We must abandon the failed policy of nation building and regime change that Hillary Clinton pushed in Iraq, Libya, Egypt and Syria. Instead, we must work with all of our allies who share our goal of destroying ISIS and stamping out Islamic terror.\\n', 'This includes working with our greatest ally in the region, the State of Israel. Lastly, we must immediately suspend immigration from any nation that has been compromised by terrorism until such time as proven vetting mechanisms have been put in place.\\n', 'My opponent has called for a radical 550% increase in Syrian refugees on top of existing massive refugee flows coming into our country under President Obama. She proposes this despite the fact that there\\xe2\\x80\\x99s no way to screen these refugees in order to find out who they are or where they come from. I only want to admit individuals into our country who will support our values and love our people.\\n', 'Anyone who endorses violence, hatred or oppression is not welcome in our country and never will be.\\n', 'Decades of record immigration have produced lower wages and higher unemployment for our citizens, especially for African-American and Latino workers. We are going to have an immigration system that works, but one that works for the American people.\\n', 'On Monday, we heard from three parents whose children were killed by illegal immigrants Mary Ann Mendoza, Sabine Durden, and Jamiel Shaw. They are just three brave representatives of many thousands. Of all my travels in this country, nothing has affected me more deeply than the time I have spent with the mothers and fathers who have lost their children to violence spilling across our border.\\n', 'These families have no special interests to represent them. There are no demonstrators to protest on their behalf. My opponent will never meet with them, or share in their pain. Instead, my opponent wants Sanctuary Cities. But where was sanctuary for Kate Steinle? Where was Sanctuary for the children of Mary Ann, Sabine and Jamiel? Where was sanctuary for all the other Americans who have been so brutally murdered, and who have suffered so horribly?\\n', 'These wounded American families have been alone. But they are alone no longer. Tonight, this candidate and this whole nation stand in their corner to support them, to send them our love, and to pledge in their honor that we will save countless more families from suffering the same awful fate.\\n', 'We are going to build a great border wall to stop illegal immigration, to stop the gangs and the violence, and to stop the drugs from pouring into our communities. I have been honored to receive the endorsement of America\\xe2\\x80\\x99s Border Patrol Agents, and will work directly with them to protect the integrity of our lawful immigration system.\\n', 'By ending catch-and-release on the border, we will stop the cycle of human smuggling and violence. Illegal border crossings will go down. Peace will be restored. By enforcing the rules for the millions who overstay their visas, our laws will finally receive the respect they deserve.\\n', 'Tonight, I want every American whose demands for immigration security have been denied \\xe2\\x80\\x93 and every politician who has denied them \\xe2\\x80\\x93 to listen very closely to the words I am about to say.\\n', 'On January 21st of 2017, the day after I take the oath of office, Americans will finally wake up in a country where the laws of the United States are enforced. We are going to be considerate and compassionate to everyone.\\n', 'But my greatest compassion will be for our own struggling citizens. My plan is the exact opposite of the radical and dangerous immigration policy of Hillary Clinton. Americans want relief from uncontrolled immigration. Communities want relief.\\n', 'Yet Hillary Clinton is proposing mass amnesty, mass immigration, and mass lawlessness. Her plan will overwhelm your schools and hospitals, further reduce your jobs and wages, and make it harder for recent immigrants to escape from poverty.\\n', 'I have a different vision for our workers. It begins with a new, fair trade policy that protects our jobs and stands up to countries that cheat. It\\xe2\\x80\\x99s been a signature message of my campaign from day one, and it will be a signature feature of my presidency from the moment I take the oath of office.\\n', 'I have made billions of dollars in business making deals \\xe2\\x80\\x93 now I\\xe2\\x80\\x99m going to make our country rich again. I am going to turn our bad trade agreements into great ones. America has lost nearly-one third of its manufacturing jobs since 1997, following the enactment of disastrous trade deals supported by Bill and Hillary Clinton.\\n', 'Remember, it was Bill Clinton who signed NAFTA, one of the worst economic deals ever made by our country.\\n', 'Never again.\\n', 'I am going to bring our jobs back to Ohio and to America \\xe2\\x80\\x93 and I am not going to let companies move to other countries, firing their employees along the way, without consequences.\\n', 'My opponent, on the other hand, has supported virtually every trade agreement that has been destroying our middle class. She supported NAFTA, and she supported China\\xe2\\x80\\x99s entrance into the World Trade Organization \\xe2\\x80\\x93 another one of her husband\\xe2\\x80\\x99s colossal mistakes.\\n', 'She supported the job killing trade deal with South Korea. She has supported the Trans-Pacific Partnership. The TPP will not only destroy our manufacturing, but it will make America subject to the rulings of foreign governments. I pledge to never sign any trade agreement that hurts our workers, or that diminishes our freedom and independence. Instead, I will make individual deals with individual countries.\\n', 'No longer will we enter into these massive deals, with many countries, that are thousands of pages long \\xe2\\x80\\x93 and which no one from our country even reads or understands. We are going to enforce all trade violations, including through the use of taxes and tariffs, against any country that cheats.\\n', 'This includes stopping China\\xe2\\x80\\x99s outrageous theft of intellectual property, along with their illegal product dumping, and their devastating currency manipulation. Our horrible trade agreements with China and many others, will be totally renegotiated. That includes renegotiating NAFTA to get a much better deal for America \\xe2\\x80\\x93 and we\\xe2\\x80\\x99ll walk away if we don\\xe2\\x80\\x99t get the deal that we want. We are going to start building and making things again.\\n', 'Next comes the reform of our tax laws, regulations and energy rules. While Hillary Clinton plans a massive tax increase, I have proposed the largest tax reduction of any candidate who has declared for the presidential race this year \\xe2\\x80\\x93 Democrat or Republican. Middle-income Americans will experience profound relief, and taxes will be simplified for everyone.\\n', 'America is one of the highest-taxed nations in the world. Reducing taxes will cause new companies and new jobs to come roaring back into our country. Then we are going to deal with the issue of regulation, one of the greatest job-killers of them all. Excessive regulation is costing our country as much as $2 trillion a year, and we will end it. We are going to lift the restrictions on the production of American energy. This will produce more than $20 trillion in job creating economic activity over the next four decades.\\n', 'My opponent, on the other hand, wants to put the great miners and steel workers of our country out of work \\xe2\\x80\\x93 that will never happen when I am President. With these new economic policies, trillions of dollars will start flowing into our country.\\n', 'This new wealth will improve the quality of life for all Americans \\xe2\\x80\\x93 We will build the roads, highways, bridges, tunnels, airports, and the railways of tomorrow. This, in turn, will create millions more jobs. We will rescue kids from failing schools by helping their parents send them to a safe school of their choice.\\n', 'My opponent would rather protect education bureaucrats than serve American children. We will repeal and replace disastrous Obamacare. You will be able to choose your own doctor again. And we will fix TSA at the airports! We will completely rebuild our depleted military, and the countries that we protect, at a massive loss, will be asked to pay their fair share.\\n', 'We will take care of our great Veterans like they have never been taken care of before. My opponent dismissed the VA scandal as being not widespread \\xe2\\x80\\x93 one more sign of how out of touch she really is. We are going to ask every Department Head in government to provide a list of wasteful spending projects that we can eliminate in my first 100 days. The politicians have talked about it, I\\xe2\\x80\\x99m going to do it. We are also going to appoint justices to the United States Supreme Court who will uphold our laws and our Constitution.\\n', 'The replacement for Justice Scalia will be a person of similar views and principles. This will be one of the most important issues decided by this election. My opponent wants to essentially abolish the 2nd amendment. I, on the other hand, received the early and strong endorsement of the National Rifle Association and will protect the right of all Americans to keep their families safe.\\n', 'At this moment, I would like to thank the evangelical community who have been so good to me and so supportive. You have so much to contribute to our politics, yet our laws prevent you from speaking your minds from your own pulpits.\\n', 'An amendment, pushed by Lyndon Johnson, many years ago, threatens religious institutions with a loss of their tax-exempt status if they openly advocate their political views.\\n', 'I am going to work very hard to repeal that language and protect free speech for all Americans. We can accomplish these great things, and so much else \\xe2\\x80\\x93 all we need to do is start believing in ourselves and in our country again. It is time to show the whole world that America Is Back \\xe2\\x80\\x93 bigger, and better and stronger than ever before.\\n', \"In this journey, I'm so lucky to have at my side my wife Melania and my wonderful children, Don, Ivanka, Eric, Tiffany, and Barron: you will always be my greatest source of pride and joy. My Dad, Fred Trump, was the smartest and hardest working man I ever knew. I wonder sometimes what he\\xe2\\x80\\x99d say if he were here to see this tonight.\\n\", 'It\\xe2\\x80\\x99s because of him that I learned, from my youngest age, to respect the dignity of work and the dignity of working people. He was a guy most comfortable in the company of bricklayers, carpenters, and electricians and I have a lot of that in me also. Then there\\xe2\\x80\\x99s my mother, Mary. She was strong, but also warm and fair-minded. She was a truly great mother. She was also one of the most honest and charitable people I have ever known, and a great judge of character.\\n', 'To my sisters Mary Anne and Elizabeth, my brother Robert and my late brother Fred, I will always give you my love you are most special to me. I have loved my life in business.\\n', 'But now, my sole and exclusive mission is to go to work for our country \\xe2\\x80\\x93 to go to work for all of you. It\\xe2\\x80\\x99s time to deliver a victory for the American people. But to do that, we must break free from the petty politics of the past.\\n', 'America is a nation of believers, dreamers, and strivers that is being led by a group of censors, critics, and cynics.\\n', 'Remember: all of the people telling you that you can\\xe2\\x80\\x99t have the country you want, are the same people telling you that I wouldn\\xe2\\x80\\x99t be standing here tonight. No longer can we rely on those elites in media, and politics, who will say anything to keep a rigged system in place.\\n', 'Instead, we must choose to Believe In America. History is watching us now.\\n', 'It\\xe2\\x80\\x99s waiting to see if we will rise to the occasion, and if we will show the whole world that America is still free and independent and strong.\\n', 'My opponent asks her supporters to recite a three-word loyalty pledge. It reads: \\xe2\\x80\\x9cI\\xe2\\x80\\x99m With Her\\xe2\\x80\\x9d. I choose to recite a different pledge.\\n', 'My pledge reads: \\xe2\\x80\\x9cI\\xe2\\x80\\x99M WITH YOU \\xe2\\x80\\x93 THE AMERICAN PEOPLE.\\xe2\\x80\\x9d\\n', 'I am your voice.\\n', 'So to every parent who dreams for their child, and every child who dreams for their future, I say these words to you tonight: I\\xe2\\x80\\x99m With You, and I will fight for you, and I will win for you.\\n', 'To all Americans tonight, in all our cities and towns, I make this promise: We Will Make America Strong Again.\\n', 'We Will Make America Proud Again.\\n', 'We Will Make America Safe Again.\\n', 'And We Will Make America Great Again.\\n', 'THANK YOU.\\n']\n"
     ]
    }
   ],
   "source": [
    "print zeilen\n"
   ]
  },
  {
   "cell_type": "markdown",
   "metadata": {},
   "source": [
    "Wenn man sich den Output genauer ansieht, dann sehen wir es zunächst mit einer eckigen Klammer beginnt und dann das jeder Satz mit den Anführungsstrichen umschlossen ist. Um welchen Datentypen handelt es sich hier? Genau, um eine Liste! Womit können wir die Liste am besten auslesen?"
   ]
  },
  {
   "cell_type": "code",
   "execution_count": 10,
   "metadata": {
    "collapsed": false
   },
   "outputs": [
    {
     "name": "stdout",
     "output_type": "stream",
     "text": [
      "Friends, delegates and fellow Americans: I humbly and gratefully accept your nomination for the presidency of the United States.\n",
      "\n",
      "Together, we will lead our party back to the White House, and we will lead our country back to safety, prosperity, and peace. We will be a country of generosity\n",
      "Our Convention occurs at a moment of crisis for our nation. The attacks on our police, and the terrorism in our cities, threaten our very way of life. Any polit\n",
      "Americans watching this address tonight have seen the recent images of violence in our streets and the chaos in our communities. Many have witnessed this violen\n",
      "I have a message for all of you: the crime and violence that today afflicts our nation will soon come to an end. Beginning on January 20th 2017, safety will be \n",
      "The most basic duty of government is to defend the lives of its own citizens. Any government that fails to do so is a government unworthy to lead.\n",
      "\n",
      "It is finally time for a straightforward assessment of the state of our nation.\n",
      "\n",
      "I will present the facts plainly and honestly. We cannot afford to be so politically correct anymore.\n",
      "\n",
      "So if you want to hear the corporate spin, the carefully-crafted lies, and the media myths the Democrats are holding their convention next week.\n",
      "\n",
      "But here, at our convention, there will be no lies. We will honor the American people with the truth, and nothing else.\n",
      "\n",
      "Decades of progress made in bringing down crime are now being reversed by this Administration’s rollback of criminal enforcement.\n",
      "\n",
      "Homicides last year increased by 17% in America’s fifty largest cities. That’s the largest increase in 25 years. In our nation’s capital, killings have ri\n",
      "In the President’s hometown of Chicago, more than 2,000 have been the victims of shootings this year alone. And more than 3,600 have been killed in the Chicag\n",
      "The number of police officers killed in the line of duty has risen by almost 50% compared to this point last year. Nearly 180,000 illegal immigrants with crimin\n",
      "The number of new illegal immigrant families who have crossed the border so far this year already exceeds the entire total from 2015. They are being released by\n",
      "One such border-crosser was released and made his way to Nebraska. There, he ended the life of an innocent young girl named Sarah Root. She was 21 years-old, an\n",
      "I’ve met Sarah’s beautiful family. But to this Administration, their amazing daughter was just one more American life that wasn’t worth protecting. One mo\n",
      "Again, I will tell you the plain facts that have been edited out of your nightly news and your morning newspaper: Nearly Four in 10 African-American children ar\n",
      "Household incomes are down more than $4,000 since the year 2000. Our manufacturing trade deficit has reached an all-time high – nearly $800 billion in a singl\n",
      "President Obama has doubled our national debt to more than $19 trillion, and growing. Yet, what do we have to show for it? Our roads and bridges are falling apa\n",
      "Now let us consider the state of affairs abroad.\n",
      "\n",
      "Not only have our citizens endured domestic disaster, but they have lived through one international humiliation after another. We all remember the images of our\n",
      "This was just prior to the signing of the Iran deal, which gave back to Iran $150 billion and gave us nothing – it will go down in history as one of the worst\n",
      "In Libya, our consulate – the symbol of American prestige around the globe – was brought down in flames. America is far less safe – and the world is far l\n",
      "I am certain it is a decision he truly regrets. Her bad instincts and her bad judgment – something pointed out by Bernie Sanders – are what caused the disas\n",
      "Libya was cooperating. Egypt was peaceful. Iraq was seeing a reduction in violence. Iran was being choked by sanctions. Syria was under control. After four year\n",
      "Iran is on the path to nuclear weapons. Syria is engulfed in a civil war and a refugee crisis that now threatens the West. After fifteen years of wars in the Mi\n",
      "This is the legacy of Hillary Clinton: death, destruction and weakness.\n",
      "\n",
      "But Hillary Clinton’s legacy does not have to be America’s legacy. The problems we face now – poverty and violence at home, war and destruction abroad –\n",
      "The most important difference between our plan and that of our opponents, is that our plan will put America First. Americanism, not globalism, will be our credo\n",
      "The American People will come first once again. My plan will begin with safety at home – which means safe neighborhoods, secure borders, and protection from t\n",
      "A number of these reforms that I will outline tonight will be opposed by some of our nation’s most powerful special interests. That is because these interests\n",
      "Big business, elite media and major donors are lining up behind the campaign of my opponent because they know she will keep our rigged system in place. They are\n",
      "That is why Hillary Clinton’s message is that things will never change. My message is that things have to change – and they have to change right now. Every \n",
      "I have visited the laid-off factory workers, and the communities crushed by our horrible and unfair trade deals. These are the forgotten men and women of our co\n",
      "I AM YOUR VOICE.\n",
      "\n",
      "I have embraced crying mothers who have lost their children because our politicians put their personal agendas before the national good. I have no patience for \n",
      "When innocent people suffer, because our political system lacks the will, or the courage, or the basic decency to enforce our laws – or worse still, has sold \n",
      "And when a Secretary of State illegally stores her emails on a private server, deletes 33,000 of them so the authorities can’t see her crime, puts our country\n",
      "When the FBI Director says that the Secretary of State was “extremely careless” and “negligent,” in handling our classified secrets, I also know that th\n",
      "In fact, her single greatest accomplishment may be committing such an egregious crime and getting away with it – especially when others have paid so dearly. W\n",
      "I have joined the political arena so that the powerful can no longer beat up on people that cannot defend themselves. Nobody knows the system better than me, wh\n",
      "But his supporters will join our movement, because we will fix his biggest issue: trade. Millions of Democrats will join our movement because we are going to fi\n",
      "We will bring the same economic success to America that Mike brought to Indiana. He is a man of character and accomplishment. He is the right man for the job. T\n",
      "America was shocked to its core when our police officers in Dallas were brutally executed. In the days after Dallas, we have seen continued threats and violence\n",
      "On Sunday, more police were gunned down in Baton Rouge, Louisiana. Three were killed, and four were badly injured. An attack on law enforcement is an attack on \n",
      "Donald Trump tests the teleprompters and microphones on stage at the start of the final day of the Republican National Convention.\n",
      "\n",
      "Leaked document: Trump will tell the nation, 'I am your voice'\n",
      "\n",
      "By ELI STOKOLS and NICK GASS\n",
      "\n",
      "I will work with, and appoint, the best prosecutors and law enforcement officials in the country to get the job done. In this race for the White House, I am the\n",
      "This Administration has failed America’s inner cities. It’s failed them on education. It’s failed them on jobs. It’s failed them on crime. It’s failed\n",
      "When I am President, I will work to ensure that all of our kids are treated equally, and protected equally.\n",
      "\n",
      "Every action I take, I will ask myself: does this make life better for young Americans in Baltimore, Chicago, Detroit, Ferguson who have as much of a right to l\n",
      "To make life safe in America, we must also address the growing threats we face from outside America: we are going to defeat the barbarians of ISIS. Once again, \n",
      "Men, women and children viciously mowed down. Lives ruined. Families ripped apart. A nation in mourning.\n",
      "\n",
      "The damage and devastation that can be inflicted by Islamic radicals has been over and over – at the World Trade Center, at an office party in San Bernardino,\n",
      "Only weeks ago, in Orlando, Florida, 49 wonderful Americans were savagely murdered by an Islamic terrorist. This time, the terrorist targeted our LGBT community\n",
      "We must have the best intelligence gathering operation in the world. We must abandon the failed policy of nation building and regime change that Hillary Clinton\n",
      "This includes working with our greatest ally in the region, the State of Israel. Lastly, we must immediately suspend immigration from any nation that has been c\n",
      "My opponent has called for a radical 550% increase in Syrian refugees on top of existing massive refugee flows coming into our country under President Obama. Sh\n",
      "Anyone who endorses violence, hatred or oppression is not welcome in our country and never will be.\n",
      "\n",
      "Decades of record immigration have produced lower wages and higher unemployment for our citizens, especially for African-American and Latino workers. We are goi\n",
      "On Monday, we heard from three parents whose children were killed by illegal immigrants Mary Ann Mendoza, Sabine Durden, and Jamiel Shaw. They are just three br\n",
      "These families have no special interests to represent them. There are no demonstrators to protest on their behalf. My opponent will never meet with them, or sha\n",
      "These wounded American families have been alone. But they are alone no longer. Tonight, this candidate and this whole nation stand in their corner to support th\n",
      "We are going to build a great border wall to stop illegal immigration, to stop the gangs and the violence, and to stop the drugs from pouring into our communiti\n",
      "By ending catch-and-release on the border, we will stop the cycle of human smuggling and violence. Illegal border crossings will go down. Peace will be restored\n",
      "Tonight, I want every American whose demands for immigration security have been denied – and every politician who has denied them – to listen very closely t\n",
      "On January 21st of 2017, the day after I take the oath of office, Americans will finally wake up in a country where the laws of the United States are enforced. \n",
      "But my greatest compassion will be for our own struggling citizens. My plan is the exact opposite of the radical and dangerous immigration policy of Hillary Cli\n",
      "Yet Hillary Clinton is proposing mass amnesty, mass immigration, and mass lawlessness. Her plan will overwhelm your schools and hospitals, further reduce your j\n",
      "I have a different vision for our workers. It begins with a new, fair trade policy that protects our jobs and stands up to countries that cheat. It’s been a s\n",
      "I have made billions of dollars in business making deals – now I’m going to make our country rich again. I am going to turn our bad trade agreements into gr\n",
      "Remember, it was Bill Clinton who signed NAFTA, one of the worst economic deals ever made by our country.\n",
      "\n",
      "Never again.\n",
      "\n",
      "I am going to bring our jobs back to Ohio and to America – and I am not going to let companies move to other countries, firing their employees along the way, \n",
      "My opponent, on the other hand, has supported virtually every trade agreement that has been destroying our middle class. She supported NAFTA, and she supported \n",
      "She supported the job killing trade deal with South Korea. She has supported the Trans-Pacific Partnership. The TPP will not only destroy our manufacturing, but\n",
      "No longer will we enter into these massive deals, with many countries, that are thousands of pages long – and which no one from our country even reads or unde\n",
      "This includes stopping China’s outrageous theft of intellectual property, along with their illegal product dumping, and their devastating currency manipulatio\n",
      "Next comes the reform of our tax laws, regulations and energy rules. While Hillary Clinton plans a massive tax increase, I have proposed the largest tax reducti\n",
      "America is one of the highest-taxed nations in the world. Reducing taxes will cause new companies and new jobs to come roaring back into our country. Then we ar\n",
      "My opponent, on the other hand, wants to put the great miners and steel workers of our country out of work – that will never happen when I am President. With \n",
      "This new wealth will improve the quality of life for all Americans – We will build the roads, highways, bridges, tunnels, airports, and the railways of tomorr\n",
      "My opponent would rather protect education bureaucrats than serve American children. We will repeal and replace disastrous Obamacare. You will be able to choose\n",
      "We will take care of our great Veterans like they have never been taken care of before. My opponent dismissed the VA scandal as being not widespread – one mor\n",
      "The replacement for Justice Scalia will be a person of similar views and principles. This will be one of the most important issues decided by this election. My \n",
      "At this moment, I would like to thank the evangelical community who have been so good to me and so supportive. You have so much to contribute to our politics, y\n",
      "An amendment, pushed by Lyndon Johnson, many years ago, threatens religious institutions with a loss of their tax-exempt status if they openly advocate their po\n",
      "I am going to work very hard to repeal that language and protect free speech for all Americans. We can accomplish these great things, and so much else – all w\n",
      "In this journey, I'm so lucky to have at my side my wife Melania and my wonderful children, Don, Ivanka, Eric, Tiffany, and Barron: you will always be my greate\n",
      "It’s because of him that I learned, from my youngest age, to respect the dignity of work and the dignity of working people. He was a guy most comfortable in t\n",
      "To my sisters Mary Anne and Elizabeth, my brother Robert and my late brother Fred, I will always give you my love you are most special to me. I have loved my li\n",
      "But now, my sole and exclusive mission is to go to work for our country – to go to work for all of you. It’s time to deliver a victory for the American peop\n",
      "America is a nation of believers, dreamers, and strivers that is being led by a group of censors, critics, and cynics.\n",
      "\n",
      "Remember: all of the people telling you that you can’t have the country you want, are the same people telling you that I wouldn’t be standing here tonight. \n",
      "Instead, we must choose to Believe In America. History is watching us now.\n",
      "\n",
      "It’s waiting to see if we will rise to the occasion, and if we will show the whole world that America is still free and independent and strong.\n",
      "\n",
      "My opponent asks her supporters to recite a three-word loyalty pledge. It reads: “I’m With Her”. I choose to recite a different pledge.\n",
      "\n",
      "My pledge reads: “I’M WITH YOU – THE AMERICAN PEOPLE.”\n",
      "\n",
      "I am your voice.\n",
      "\n",
      "So to every parent who dreams for their child, and every child who dreams for their future, I say these words to you tonight: I’m With You, and I will fight f\n",
      "To all Americans tonight, in all our cities and towns, I make this promise: We Will Make America Strong Again.\n",
      "\n",
      "We Will Make America Proud Again.\n",
      "\n",
      "We Will Make America Safe Again.\n",
      "\n",
      "And We Will Make America Great Again.\n",
      "\n",
      "THANK YOU.\n",
      "\n"
     ]
    }
   ],
   "source": [
    "for zeile in zeilen:\n",
    "    print zeile[0:160]"
   ]
  },
  {
   "cell_type": "markdown",
   "metadata": {},
   "source": [
    "Nun möchten wir nur die ersten 160 Charaktere einer Zeile ausgeben lassen. Dafür kann man in Python die eckigen Klammern nach einem Text-Objekt anwenden [0:160] z.B. Gibt alle Zeichen aus von dem 0ten bis zum 160ten Charakter: "
   ]
  },
  {
   "cell_type": "code",
   "execution_count": null,
   "metadata": {
    "collapsed": true
   },
   "outputs": [],
   "source": [
    "for zeile in zeilen:\n",
    "    print zeile[0:160]"
   ]
  },
  {
   "cell_type": "markdown",
   "metadata": {},
   "source": [
    "**Challenge** Versucht diese Schleife nun mit dem Tweepy zu kombinieren. D. h. jede Zeile soll getweeted werden. Aber Achtung: baut ein delay (sleep(5)) zwischen den einzelnen Tweet uploads ein!"
   ]
  }
 ],
 "metadata": {
  "kernelspec": {
   "display_name": "Python 2",
   "language": "python",
   "name": "python2"
  },
  "language_info": {
   "codemirror_mode": {
    "name": "ipython",
    "version": 2
   },
   "file_extension": ".py",
   "mimetype": "text/x-python",
   "name": "python",
   "nbconvert_exporter": "python",
   "pygments_lexer": "ipython2",
   "version": "2.7.12"
  }
 },
 "nbformat": 4,
 "nbformat_minor": 1
}
