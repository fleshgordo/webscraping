{
 "cells": [
  {
   "cell_type": "markdown",
   "metadata": {},
   "source": [
    "### Selenium Firefox Add-on\n",
    "\n",
    "Nachdem ihr das Add on für Firefox installiert habt, öffnet es aus dem Menü\n",
    "\n",
    "![title](tutorial/selenium1.png)\n",
    "\n",
    "Wir müssen in den Einstellungen noch etwas ändern. Klick auf das Options Menü sobald das Selenium IDE Plugin offen ist\n",
    "\n",
    "![title](tutorial/selenium2.png)\n",
    "\n",
    "In den Einstellung müsst ihr das Kästchen \"Enable experimental features\" anklicken\n",
    "\n",
    "![title](tutorial/selenium3.png)\n",
    "\n",
    "Danach wählen wir in den Einstellungen, dass Selenium python Code aufzeichnen soll\n",
    "\n",
    "![title](tutorial/selenium4.png)\n",
    "\n",
    "Schliesslich können wir nun im Browser eine URL öffnen, in eine Eingabemaske klicken und auf einen Button klicken. Probiert es mit www.google.ch und seht an, was im Selenium IDE Fenster passiert. Es wird automatisch der Pyhton Code generiert, den wir nachher mit Selenium abspielen können.\n",
    "\n",
    "![title](tutorial/selenium5.png)\n",
    "\n",
    "Da sind extrem viele Zeilen, aber seht euch nur den selektierten Text an. Was bedeutet das? Welche Aktionen wurden aufgezeichnet und weshalb?\n",
    "\n",
    "öffnet eine andere Seite und klickt ein bisschen herum. Gebt Text ein, und seht was im Selenium passiert. Wird wirklich alles aufgezeichnet?\n",
    "\n",
    "\n",
    "![title](tutorial/selenium6.png)\n"
   ]
  },
  {
   "cell_type": "code",
   "execution_count": null,
   "metadata": {
    "collapsed": true
   },
   "outputs": [],
   "source": []
  }
 ],
 "metadata": {
  "kernelspec": {
   "display_name": "Python 2",
   "language": "python",
   "name": "python2"
  },
  "language_info": {
   "codemirror_mode": {
    "name": "ipython",
    "version": 2
   },
   "file_extension": ".py",
   "mimetype": "text/x-python",
   "name": "python",
   "nbconvert_exporter": "python",
   "pygments_lexer": "ipython2",
   "version": "2.7.12"
  }
 },
 "nbformat": 4,
 "nbformat_minor": 1
}
